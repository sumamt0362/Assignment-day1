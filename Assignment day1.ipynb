{
 "cells": [
  {
   "cell_type": "code",
   "execution_count": 12,
   "id": "9fb80848-864d-4549-8d00-a233d5d6f96b",
   "metadata": {},
   "outputs": [
    {
     "name": "stdout",
     "output_type": "stream",
     "text": [
      "K likes Maths\n",
      "L likes Science\n",
      "M likes Social\n",
      "N likes English\n"
     ]
    }
   ],
   "source": [
    "names = ['K', 'L', 'M', 'N']\n",
    "subj = ['Maths', 'Science', 'Social', 'English']\n",
    "\n",
    "for name, subject in zip(names, subj):\n",
    "    print(f\"{name} likes {subject}\")"
   ]
  },
  {
   "cell_type": "code",
   "execution_count": 16,
   "id": "678dfa91-1fe9-4035-bc7d-e47abec30114",
   "metadata": {},
   "outputs": [
    {
     "name": "stdout",
     "output_type": "stream",
     "text": [
      "['divisible by 2', 'divisible by 2', 'not divisible by 2', 'not divisible by 2', 'not divisible by 2', 'not divisible by 2']\n"
     ]
    }
   ],
   "source": [
    "numbers = [78, 990, 33, 25, 667, 891]\n",
    "result=[]\n",
    "for num in numbers:\n",
    "    if num % 2==0:\n",
    "        result.append('divisible by 2')\n",
    "    else:\n",
    "        result.append('not divisible by 2')\n",
    "print(result)\n"
   ]
  },
  {
   "cell_type": "code",
   "execution_count": null,
   "id": "b9d1ad5d-adde-40b6-ac35-7a684155cd91",
   "metadata": {},
   "outputs": [],
   "source": []
  }
 ],
 "metadata": {
  "kernelspec": {
   "display_name": "Python 3 (ipykernel)",
   "language": "python",
   "name": "python3"
  },
  "language_info": {
   "codemirror_mode": {
    "name": "ipython",
    "version": 3
   },
   "file_extension": ".py",
   "mimetype": "text/x-python",
   "name": "python",
   "nbconvert_exporter": "python",
   "pygments_lexer": "ipython3",
   "version": "3.11.7"
  }
 },
 "nbformat": 4,
 "nbformat_minor": 5
}
